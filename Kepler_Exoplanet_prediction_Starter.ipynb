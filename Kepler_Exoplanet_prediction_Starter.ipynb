{
  "metadata": {
    "kernelspec": {
      "language": "python",
      "display_name": "Python 3",
      "name": "python3"
    },
    "language_info": {
      "pygments_lexer": "ipython3",
      "nbconvert_exporter": "python",
      "version": "3.6.4",
      "file_extension": ".py",
      "codemirror_mode": {
        "name": "ipython",
        "version": 3
      },
      "name": "python",
      "mimetype": "text/x-python"
    },
    "colab": {
      "name": "Kepler Exoplanet prediction Starter",
      "provenance": []
    }
  },
  "nbformat_minor": 0,
  "nbformat": 4,
  "cells": [
    {
      "source": [
        "# IMPORTANT: RUN THIS CELL IN ORDER TO IMPORT YOUR KAGGLE DATA SOURCES,\n",
        "# THEN FEEL FREE TO DELETE THIS CELL.\n",
        "# NOTE: THIS NOTEBOOK ENVIRONMENT DIFFERS FROM KAGGLE'S PYTHON\n",
        "# ENVIRONMENT SO THERE MAY BE MISSING LIBRARIES USED BY YOUR\n",
        "# NOTEBOOK.\n",
        "import kagglehub\n",
        "arashnic_exoplanets_path = kagglehub.dataset_download('arashnic/exoplanets')\n",
        "\n",
        "print('Data source import complete.')\n"
      ],
      "metadata": {
        "id": "QhtkVw8tZOo2"
      },
      "cell_type": "code",
      "outputs": [],
      "execution_count": null
    },
    {
      "cell_type": "code",
      "source": [
        "# This Python 3 environment comes with many helpful analytics libraries installed\n",
        "# It is defined by the kaggle/python Docker image: https://github.com/kaggle/docker-python\n",
        "# For example, here's several helpful packages to load\n",
        "\n",
        "import numpy as np # linear algebra\n",
        "import pandas as pd # data processing, CSV file I/O (e.g. pd.read_csv)\n",
        "\n",
        "# Input data files are available in the read-only \"../input/\" directory\n",
        "# For example, running this (by clicking run or pressing Shift+Enter) will list all files under the input directory\n",
        "\n",
        "import os\n",
        "for dirname, _, filenames in os.walk('/kaggle/input'):\n",
        "    for filename in filenames:\n",
        "        print(os.path.join(dirname, filename))\n",
        "\n",
        "# You can write up to 20GB to the current directory (/kaggle/working/) that gets preserved as output when you create a version using \"Save & Run All\"\n",
        "# You can also write temporary files to /kaggle/temp/, but they won't be saved outside of the current session"
      ],
      "metadata": {
        "_uuid": "8f2839f25d086af736a60e9eeb907d3b93b6e0e5",
        "_cell_guid": "b1076dfc-b9ad-4769-8c92-a6c4dae69d19",
        "execution": {
          "iopub.status.busy": "2022-06-23T12:55:56.043521Z",
          "iopub.execute_input": "2022-06-23T12:55:56.043984Z",
          "iopub.status.idle": "2022-06-23T12:55:56.057877Z",
          "shell.execute_reply.started": "2022-06-23T12:55:56.04395Z",
          "shell.execute_reply": "2022-06-23T12:55:56.056027Z"
        },
        "trusted": true,
        "id": "3oj9wYc6ZOo5"
      },
      "execution_count": null,
      "outputs": []
    },
    {
      "cell_type": "code",
      "source": [
        "%matplotlib inline\n",
        "import pandas as pd\n",
        "import numpy as np\n",
        "import matplotlib.pyplot as plt\n",
        "import seaborn as sns\n",
        "\n",
        "# Sklearn Packages\n",
        "from sklearn.linear_model import LogisticRegression\n",
        "from sklearn.model_selection import train_test_split, GridSearchCV\n",
        "from sklearn.ensemble import RandomForestClassifier\n",
        "from sklearn.preprocessing import LabelEncoder, OneHotEncoder, StandardScaler, MinMaxScaler, RobustScaler\n",
        "from sklearn.model_selection import train_test_split, KFold, StratifiedKFold\n",
        "from sklearn.ensemble import  RandomForestClassifier\n",
        "from sklearn.metrics import *\n",
        "import lightgbm as lgb\n",
        "import xgboost as xgb\n",
        "# Sklearn Evaluation Metrics\n",
        "from sklearn import metrics\n",
        "\n",
        "\n",
        "# Visualizes all the columns\n",
        "pd.set_option('display.max_columns', None)\n",
        "\n",
        "import warnings\n",
        "warnings.filterwarnings(\"ignore\", category=DeprecationWarning)\n",
        "warnings.filterwarnings(\"ignore\", category=FutureWarning)\n",
        "\n",
        "\n",
        "def make_confusion_matrix(cf,\n",
        "                          group_names=None,\n",
        "                          categories='auto',\n",
        "                          count=True,\n",
        "                          percent=True,\n",
        "                          cbar=True,\n",
        "                          xyticks=True,\n",
        "                          xyplotlabels=True,\n",
        "                          sum_stats=True,\n",
        "                          figsize=None,\n",
        "                          cmap='Blues',\n",
        "                          title=None):\n",
        "\n",
        "\n",
        "\n",
        "    # CODE TO GENERATE TEXT INSIDE EACH SQUARE\n",
        "    blanks = ['' for i in range(cf.size)]\n",
        "\n",
        "    if group_names and len(group_names)==cf.size:\n",
        "        group_labels = [\"{}\\n\".format(value) for value in group_names]\n",
        "    else:\n",
        "        group_labels = blanks\n",
        "\n",
        "    if count:\n",
        "        group_counts = [\"{0:0.0f}\\n\".format(value) for value in cf.flatten()]\n",
        "    else:\n",
        "        group_counts = blanks\n",
        "\n",
        "    if percent:\n",
        "        group_percentages = [\"{0:.2%}\".format(value) for value in cf.flatten()/np.sum(cf)]\n",
        "    else:\n",
        "        group_percentages = blanks\n",
        "\n",
        "    box_labels = [f\"{v1}{v2}{v3}\".strip() for v1, v2, v3 in zip(group_labels,group_counts,group_percentages)]\n",
        "    box_labels = np.asarray(box_labels).reshape(cf.shape[0],cf.shape[1])\n",
        "\n",
        "\n",
        "    # CODE TO GENERATE SUMMARY STATISTICS & TEXT FOR SUMMARY STATS\n",
        "    if sum_stats:\n",
        "        #Accuracy is sum of diagonal divided by total observations\n",
        "        accuracy  = np.trace(cf) / float(np.sum(cf))\n",
        "\n",
        "        #if it is a binary confusion matrix, show some more stats\n",
        "        if len(cf)==2:\n",
        "            #Metrics for Binary Confusion Matrices\n",
        "            precision = cf[1,1] / sum(cf[:,1])\n",
        "            recall    = cf[1,1] / sum(cf[1,:])\n",
        "            f1_score  = 2*precision*recall / (precision + recall)\n",
        "            stats_text = \"\\n\\nAccuracy={:0.3f}\\nPrecision={:0.3f}\\nRecall={:0.3f}\\nF1 Score={:0.3f}\".format(\n",
        "                accuracy,precision,recall,f1_score)\n",
        "        else:\n",
        "            stats_text = \"\\n\\nAccuracy={:0.3f}\".format(accuracy)\n",
        "    else:\n",
        "        stats_text = \"\"\n",
        "\n",
        "\n",
        "    # SET FIGURE PARAMETERS ACCORDING TO OTHER ARGUMENTS\n",
        "    if figsize==None:\n",
        "        #Get default figure size if not set\n",
        "        figsize = plt.rcParams.get('figure.figsize')\n",
        "\n",
        "    if xyticks==False:\n",
        "        #Do not show categories if xyticks is False\n",
        "        categories=False\n",
        "\n",
        "\n",
        "    # MAKE THE HEATMAP VISUALIZATION\n",
        "    plt.figure(figsize=figsize)\n",
        "    sns.heatmap(cf,annot=box_labels,fmt=\"\",cmap=cmap,cbar=cbar,xticklabels=categories,yticklabels=categories)\n",
        "\n",
        "    if xyplotlabels:\n",
        "        plt.ylabel('True label')\n",
        "        plt.xlabel('Predicted label' + stats_text)\n",
        "    else:\n",
        "        plt.xlabel(stats_text)\n",
        "\n",
        "    if title:\n",
        "        plt.title(title)\n",
        "\n",
        "df = pd.read_csv('../input/exoplanets/exoplanets.csv')\n",
        "\n",
        "# Print the shape of the dataset\n",
        "print(df.shape)\n",
        "\n",
        "# Select top of the dataset\n",
        "df.head()"
      ],
      "metadata": {
        "execution": {
          "iopub.status.busy": "2022-06-23T12:56:12.915945Z",
          "iopub.execute_input": "2022-06-23T12:56:12.916348Z",
          "iopub.status.idle": "2022-06-23T12:56:13.095654Z",
          "shell.execute_reply.started": "2022-06-23T12:56:12.916318Z",
          "shell.execute_reply": "2022-06-23T12:56:13.094255Z"
        },
        "trusted": true,
        "id": "QW8Ko2xJZOo5"
      },
      "execution_count": null,
      "outputs": []
    },
    {
      "cell_type": "code",
      "source": [
        "df = df.rename(columns={'kepid':'KepID',\n",
        "'kepoi_name':'KOIName',\n",
        "'kepler_name':'KeplerName',\n",
        "'koi_disposition':'ExoplanetArchiveDisposition',\n",
        "'koi_pdisposition':'DispositionUsingKeplerData',\n",
        "'koi_score':'DispositionScore',\n",
        "'koi_fpflag_nt':'NotTransit-LikeFalsePositiveFlag',\n",
        "'koi_fpflag_ss':'koi_fpflag_ss',\n",
        "'koi_fpflag_co':'CentroidOffsetFalsePositiveFlag',\n",
        "'koi_fpflag_ec':'EphemerisMatchIndicatesContaminationFalsePositiveFlag',\n",
        "'koi_period':'OrbitalPeriod_days',\n",
        "'koi_period_err1':'OrbitalPeriodUpperUnc_days',\n",
        "'koi_period_err2':'OrbitalPeriodLowerUnc_days',\n",
        "'koi_time0bk':'TransitEpoch_BKJD',\n",
        "'koi_time0bk_err1':'TransitEpochUpperUnc_BKJD',\n",
        "'koi_time0bk_err2':'TransitEpochLowerUnc_BKJD',\n",
        "'koi_impact':'ImpactParamete',\n",
        "'koi_impact_err1':'ImpactParameterUpperUnc',\n",
        "'koi_impact_err2':'ImpactParameterLowerUnc',\n",
        "'koi_duration':'TransitDuration_hrs',\n",
        "'koi_duration_err1':'TransitDurationUpperUnc_hrs',\n",
        "'koi_duration_err2':'TransitDurationLowerUnc_hrs',\n",
        "'koi_depth':'TransitDepth_ppm',\n",
        "'koi_depth_err1':'TransitDepthUpperUnc_ppm',\n",
        "'koi_depth_err2':'TransitDepthLowerUnc_ppm',\n",
        "'koi_prad':'PlanetaryRadius_Earthradii',\n",
        "'koi_prad_err1':'PlanetaryRadiusUpperUnc_Earthradii',\n",
        "'koi_prad_err2':'PlanetaryRadiusLowerUnc_Earthradii',\n",
        "'koi_teq':'EquilibriumTemperatureK',\n",
        "'koi_teq_err1':'EquilibriumTemperatureUpperUncK',\n",
        "'koi_teq_err2':'EquilibriumTemperatureLowerUncK',\n",
        "'koi_insol':'InsolationFlux_Earthflux',\n",
        "'koi_insol_err1':'InsolationFluxUpperUnc_Earthflux',\n",
        "'koi_insol_err2':'InsolationFluxLowerUnc_Earthflux',\n",
        "'koi_model_snr':'TransitSignal-to-Nois',\n",
        "'koi_tce_plnt_num':'TCEPlanetNumbe',\n",
        "'koi_tce_delivname':'TCEDeliver',\n",
        "'koi_steff':'StellarEffectiveTemperatureK',\n",
        "'koi_steff_err1':'StellarEffectiveTemperatureUpperUncK',\n",
        "'koi_steff_err2':'StellarEffectiveTemperatureLowerUncK',\n",
        "'koi_slogg':'StellarSurfaceGravity_log10(cm/s**2)',\n",
        "'koi_slogg_err1':'StellarSurfaceGravityUpperUnc_log10(cm/s**2)',\n",
        "'koi_slogg_err2':'StellarSurfaceGravityLowerUnc_log10(cm/s**2)',\n",
        "'koi_srad':'StellarRadius_Solarradii',\n",
        "'koi_srad_err1':'StellarRadiusUpperUnc_Solarradii',\n",
        "'koi_srad_err2':'StellarRadiusLowerUnc_Solarradii',\n",
        "'ra':'RA_decimaldegrees',\n",
        "'dec':'Dec_decimaldegrees',\n",
        "'koi_kepmag':'Kepler-band_mag'\n",
        "})\n",
        "df.head().T"
      ],
      "metadata": {
        "execution": {
          "iopub.status.busy": "2022-06-23T12:56:14.589505Z",
          "iopub.execute_input": "2022-06-23T12:56:14.590015Z",
          "iopub.status.idle": "2022-06-23T12:56:14.625721Z",
          "shell.execute_reply.started": "2022-06-23T12:56:14.589978Z",
          "shell.execute_reply": "2022-06-23T12:56:14.624251Z"
        },
        "trusted": true,
        "id": "eJgUKaO5ZOo6"
      },
      "execution_count": null,
      "outputs": []
    },
    {
      "cell_type": "code",
      "source": [
        "df.isnull().sum()"
      ],
      "metadata": {
        "execution": {
          "iopub.status.busy": "2022-06-23T12:56:15.760454Z",
          "iopub.execute_input": "2022-06-23T12:56:15.760886Z",
          "iopub.status.idle": "2022-06-23T12:56:15.778569Z",
          "shell.execute_reply.started": "2022-06-23T12:56:15.760855Z",
          "shell.execute_reply": "2022-06-23T12:56:15.777109Z"
        },
        "trusted": true,
        "id": "t_JUVctHZOo6"
      },
      "execution_count": null,
      "outputs": []
    },
    {
      "cell_type": "markdown",
      "source": [
        ">Let’s choose the targets we want to predict: Exoplanet Archive Disposition and Disposition Using Kepler Data. Since we are focusing on data collected by the Kepler mission, let’s use our second option. We also need a continuous target. Let’s transform our target into a binary feature using lambda."
      ],
      "metadata": {
        "id": "d82owKYIZOo7"
      }
    },
    {
      "cell_type": "code",
      "source": [
        "df['ExoplanetCandidate'] = df['DispositionUsingKeplerData'].apply(lambda x: 1 if x == 'CANDIDATE' else 0)\n",
        "df['ExoplanetConfirmed'] = df['ExoplanetArchiveDisposition'].apply(lambda x: 2 if x == 'CONFIRMED' else 1 if x == 'CANDIDATE' else 0 )\n"
      ],
      "metadata": {
        "execution": {
          "iopub.status.busy": "2022-06-23T12:56:25.712261Z",
          "iopub.execute_input": "2022-06-23T12:56:25.713107Z",
          "iopub.status.idle": "2022-06-23T12:56:25.736459Z",
          "shell.execute_reply.started": "2022-06-23T12:56:25.71305Z",
          "shell.execute_reply": "2022-06-23T12:56:25.735344Z"
        },
        "trusted": true,
        "id": "fKwNUvjJZOo8"
      },
      "execution_count": null,
      "outputs": []
    },
    {
      "cell_type": "code",
      "source": [
        "sns.countplot(df['ExoplanetCandidate'])"
      ],
      "metadata": {
        "execution": {
          "iopub.status.busy": "2022-06-23T12:56:28.213518Z",
          "iopub.execute_input": "2022-06-23T12:56:28.214135Z",
          "iopub.status.idle": "2022-06-23T12:56:28.385062Z",
          "shell.execute_reply.started": "2022-06-23T12:56:28.214099Z",
          "shell.execute_reply": "2022-06-23T12:56:28.38368Z"
        },
        "trusted": true,
        "id": "NP6LVf2zZOo8"
      },
      "execution_count": null,
      "outputs": []
    },
    {
      "cell_type": "code",
      "source": [
        "sns.countplot(df['ExoplanetConfirmed'])"
      ],
      "metadata": {
        "execution": {
          "iopub.status.busy": "2022-06-23T12:56:31.139877Z",
          "iopub.execute_input": "2022-06-23T12:56:31.140329Z",
          "iopub.status.idle": "2022-06-23T12:56:31.326524Z",
          "shell.execute_reply.started": "2022-06-23T12:56:31.140296Z",
          "shell.execute_reply": "2022-06-23T12:56:31.325425Z"
        },
        "trusted": true,
        "id": "51BwQMXVZOo8"
      },
      "execution_count": null,
      "outputs": []
    },
    {
      "cell_type": "code",
      "source": [
        "df.drop(columns=['KeplerName','KOIName','EquilibriumTemperatureUpperUncK',\n",
        "                 'KepID','ExoplanetArchiveDisposition','DispositionUsingKeplerData',\n",
        "                 'NotTransit-LikeFalsePositiveFlag','koi_fpflag_ss','CentroidOffsetFalsePositiveFlag',\n",
        "                 'EphemerisMatchIndicatesContaminationFalsePositiveFlag','TCEDeliver',\n",
        "                 'EquilibriumTemperatureLowerUncK'], inplace=True)"
      ],
      "metadata": {
        "execution": {
          "iopub.status.busy": "2022-06-23T12:56:34.004575Z",
          "iopub.execute_input": "2022-06-23T12:56:34.005631Z",
          "iopub.status.idle": "2022-06-23T12:56:34.016804Z",
          "shell.execute_reply.started": "2022-06-23T12:56:34.005564Z",
          "shell.execute_reply": "2022-06-23T12:56:34.015673Z"
        },
        "trusted": true,
        "id": "ryDtdDxaZOo8"
      },
      "execution_count": null,
      "outputs": []
    },
    {
      "cell_type": "code",
      "source": [
        "df.dropna(inplace=True)\n",
        "df.shape"
      ],
      "metadata": {
        "execution": {
          "iopub.status.busy": "2022-06-23T12:56:35.231216Z",
          "iopub.execute_input": "2022-06-23T12:56:35.231953Z",
          "iopub.status.idle": "2022-06-23T12:56:35.247303Z",
          "shell.execute_reply.started": "2022-06-23T12:56:35.231902Z",
          "shell.execute_reply": "2022-06-23T12:56:35.246156Z"
        },
        "trusted": true,
        "id": "kqnddHWcZOo9"
      },
      "execution_count": null,
      "outputs": []
    },
    {
      "cell_type": "code",
      "source": [
        "def clean_dataset(df):\n",
        "    assert isinstance(df, pd.DataFrame), \"df needs to be a pd.DataFrame\"\n",
        "    df.dropna(inplace=True)\n",
        "    indices_to_keep = ~df.isin([np.nan, np.inf, -np.inf]).any(1)\n",
        "    return df[indices_to_keep].astype(np.float64)\n",
        "\n",
        "clean_dataset(df)"
      ],
      "metadata": {
        "execution": {
          "iopub.status.busy": "2022-06-23T12:56:37.150662Z",
          "iopub.execute_input": "2022-06-23T12:56:37.151901Z",
          "iopub.status.idle": "2022-06-23T12:56:37.240585Z",
          "shell.execute_reply.started": "2022-06-23T12:56:37.151858Z",
          "shell.execute_reply": "2022-06-23T12:56:37.238985Z"
        },
        "trusted": true,
        "id": "5Ha6CjCBZOo9"
      },
      "execution_count": null,
      "outputs": []
    },
    {
      "cell_type": "code",
      "source": [
        "train, test = train_test_split(df, test_size=.15)\n",
        "data = df.drop(columns=['ExoplanetConfirmed'])\n",
        "train = train.drop(columns=['ExoplanetConfirmed'])\n",
        "test = test.drop(columns=['ExoplanetConfirmed'])\n",
        "target_trn = train.pop('ExoplanetCandidate')\n",
        "target_tst = test.pop('ExoplanetCandidate')\n"
      ],
      "metadata": {
        "execution": {
          "iopub.status.busy": "2022-06-23T12:56:41.248837Z",
          "iopub.execute_input": "2022-06-23T12:56:41.249491Z",
          "iopub.status.idle": "2022-06-23T12:56:41.266515Z",
          "shell.execute_reply.started": "2022-06-23T12:56:41.249457Z",
          "shell.execute_reply": "2022-06-23T12:56:41.264941Z"
        },
        "trusted": true,
        "id": "LqCBMhOuZOo9"
      },
      "execution_count": null,
      "outputs": []
    },
    {
      "cell_type": "code",
      "source": [
        "train.shape, target_trn.shape, test.shape, target_tst.shape"
      ],
      "metadata": {
        "execution": {
          "iopub.status.busy": "2022-06-23T12:56:42.444471Z",
          "iopub.execute_input": "2022-06-23T12:56:42.445996Z",
          "iopub.status.idle": "2022-06-23T12:56:42.455575Z",
          "shell.execute_reply.started": "2022-06-23T12:56:42.445941Z",
          "shell.execute_reply": "2022-06-23T12:56:42.453983Z"
        },
        "trusted": true,
        "id": "vtKfRZO0ZOo9"
      },
      "execution_count": null,
      "outputs": []
    },
    {
      "cell_type": "code",
      "source": [
        "train.info()"
      ],
      "metadata": {
        "execution": {
          "iopub.status.busy": "2022-06-23T12:56:45.073962Z",
          "iopub.execute_input": "2022-06-23T12:56:45.074826Z",
          "iopub.status.idle": "2022-06-23T12:56:45.094039Z",
          "shell.execute_reply.started": "2022-06-23T12:56:45.074774Z",
          "shell.execute_reply": "2022-06-23T12:56:45.092713Z"
        },
        "trusted": true,
        "id": "e2AGO_oUZOo9"
      },
      "execution_count": null,
      "outputs": []
    },
    {
      "cell_type": "code",
      "source": [],
      "metadata": {
        "execution": {
          "iopub.status.busy": "2022-06-23T13:11:35.012163Z",
          "iopub.execute_input": "2022-06-23T13:11:35.012778Z",
          "iopub.status.idle": "2022-06-23T13:11:39.532258Z",
          "shell.execute_reply.started": "2022-06-23T13:11:35.012733Z",
          "shell.execute_reply": "2022-06-23T13:11:39.530972Z"
        },
        "trusted": true,
        "id": "rkiGJmL4ZOo-"
      },
      "execution_count": null,
      "outputs": []
    },
    {
      "cell_type": "code",
      "source": [
        "score_auc = []\n",
        "score_recall = []\n",
        "oof_rf = np.zeros(len(train))\n",
        "pred_rf = np.zeros(len(test))\n",
        "\n",
        "folds = StratifiedKFold(n_splits=3, shuffle=True, random_state=42)\n",
        "\n",
        "for fold_ , (train_ind, val_ind) in enumerate(folds.split(train, target_trn)):\n",
        "    print('fold:', fold_, '  - Starting ...')\n",
        "    trn_data, val_data = train.iloc[train_ind], train.iloc[val_ind]\n",
        "    y_train, y_val = target_trn.iloc[train_ind], target_trn.iloc[val_ind]\n",
        "\n",
        "    rf = RandomForestClassifier(n_estimators=150, max_depth=5, criterion='gini', max_features=0.8, n_jobs= -1, random_state=32)\n",
        "    rf.fit(trn_data, y_train)\n",
        "    oof_rf[val_ind] = rf.predict_proba(val_data)[:, 1]\n",
        "    y = rf.predict_proba(trn_data)[:, 1]\n",
        "    print('val auc:' , roc_auc_score(y_val, oof_rf[val_ind]))\n",
        "    print('val recall:' , recall_score(y_val, np.where(oof_rf[val_ind] > 0.5, 1, 0)))\n",
        "\n",
        "    score_auc.append(roc_auc_score(y_val, oof_rf[val_ind]))\n",
        "    score_recall.append(recall_score(y_val, np.where(oof_rf[val_ind] > 0.5, 1, 0)))\n",
        "\n",
        "    pred_rf += rf.predict_proba(test)[:, 1]/folds.n_splits\n",
        "\n",
        "print(' Model auc: -------> ', np.mean(score_auc))\n",
        "print(' Model recall: -------> ', np.mean(score_recall))"
      ],
      "metadata": {
        "execution": {
          "iopub.status.busy": "2022-06-23T12:56:54.915892Z",
          "iopub.execute_input": "2022-06-23T12:56:54.916303Z",
          "iopub.status.idle": "2022-06-23T12:57:02.645344Z",
          "shell.execute_reply.started": "2022-06-23T12:56:54.916271Z",
          "shell.execute_reply": "2022-06-23T12:57:02.643944Z"
        },
        "trusted": true,
        "id": "2RSlHlZEZOo-"
      },
      "execution_count": null,
      "outputs": []
    },
    {
      "cell_type": "code",
      "source": [
        "oof_nn_rd = np.where(oof_rf >= 0.5, 1, 0)\n",
        "cf_matrix = confusion_matrix(target_trn, oof_nn_rd)\n",
        "\n",
        "labels = ['True Neg','False Pos','False Neg','True Pos']\n",
        "categories = ['Zero', 'One']\n",
        "plt.style.use('seaborn-poster')\n",
        "sns.set(font_scale=1.4)\n",
        "make_confusion_matrix(cf_matrix,\n",
        "                      group_names=labels,\n",
        "                      categories=categories,\n",
        "                      cmap='vlag', figsize=(9, 6))\n"
      ],
      "metadata": {
        "execution": {
          "iopub.status.busy": "2022-06-23T12:57:31.494085Z",
          "iopub.execute_input": "2022-06-23T12:57:31.494483Z",
          "iopub.status.idle": "2022-06-23T12:57:31.744881Z",
          "shell.execute_reply.started": "2022-06-23T12:57:31.494454Z",
          "shell.execute_reply": "2022-06-23T12:57:31.743202Z"
        },
        "trusted": true,
        "id": "k4T9S-_5ZOo_"
      },
      "execution_count": null,
      "outputs": []
    },
    {
      "cell_type": "code",
      "source": [
        "roc_auc_score(target_tst, pred_rf)"
      ],
      "metadata": {
        "execution": {
          "iopub.status.busy": "2022-06-23T12:58:38.930943Z",
          "iopub.execute_input": "2022-06-23T12:58:38.93143Z",
          "iopub.status.idle": "2022-06-23T12:58:38.943554Z",
          "shell.execute_reply.started": "2022-06-23T12:58:38.931385Z",
          "shell.execute_reply": "2022-06-23T12:58:38.942668Z"
        },
        "trusted": true,
        "id": "ASLfzdSXZOo_"
      },
      "execution_count": null,
      "outputs": []
    },
    {
      "cell_type": "code",
      "source": [
        "xgb_params = {\n",
        "\n",
        "    'objective':'binary:logistic',\n",
        "    'max_depth': 5,\n",
        "    'learning_rate': 0.01,\n",
        "    'booster':'gbtree',\n",
        "    'eval_metric': 'auc',\n",
        "    'max_leaves': 10,\n",
        "    'colsample_bytree': 0.8, #feature fraction\n",
        "    'subsample':0.7, # bagging fraction\n",
        "    'lambda': 2,\n",
        "    'alpha': 3,\n",
        "\n",
        "\n",
        "}\n",
        "\n",
        "\n",
        "xgb_scores = []\n",
        "\n",
        "oof_xgb = np.zeros(len(train))\n",
        "pred_xgb = np.zeros(len(test))\n",
        "\n",
        "importances = pd.DataFrame()\n",
        "\n",
        "\n",
        "folds = StratifiedKFold(n_splits=5, shuffle=True, random_state=4242)\n",
        "\n",
        "for fold_, (train_ind, val_ind) in enumerate(folds.split(train, target_trn)):\n",
        "    print('fold : ----------------------------------------', fold_)\n",
        "    trn_data = xgb.DMatrix(data=train.iloc[train_ind], label=target_trn.iloc[train_ind])\n",
        "    val_data = xgb.DMatrix(data= train.iloc[val_ind], label=target_trn.iloc[val_ind])\n",
        "\n",
        "\n",
        "    xgb_model = xgb.train(xgb_params, trn_data, num_boost_round=1000, evals=[(trn_data, 'train'), (val_data, 'test')], verbose_eval=100, early_stopping_rounds=100)\n",
        "    oof_xgb[val_ind] = xgb_model.predict(xgb.DMatrix(train.iloc[val_ind]),  ntree_limit= xgb_model.best_ntree_limit)\n",
        "\n",
        "    print(roc_auc_score(target_trn.iloc[val_ind], oof_xgb[val_ind]))\n",
        "    xgb_scores.append(roc_auc_score(target_trn.iloc[val_ind], oof_xgb[val_ind]))\n",
        "\n",
        "    importance_score = xgb_model.get_score(importance_type='gain')\n",
        "    importance_frame = pd.DataFrame({'Importance': list(importance_score.values()), 'Feature': list(importance_score.keys())})\n",
        "    importance_frame['fold'] = fold_ +1\n",
        "    importances = pd.concat([importances, importance_frame], axis=0, sort=False)\n",
        "\n",
        "    pred_xgb += xgb_model.predict(xgb.DMatrix(test), ntree_limit= xgb_model.best_ntree_limit)/folds.n_splits\n",
        "\n",
        "print('model auc:------------------>', np.mean(xgb_scores))"
      ],
      "metadata": {
        "execution": {
          "iopub.status.busy": "2022-06-23T13:09:04.870679Z",
          "iopub.execute_input": "2022-06-23T13:09:04.871109Z",
          "iopub.status.idle": "2022-06-23T13:10:20.247689Z",
          "shell.execute_reply.started": "2022-06-23T13:09:04.871076Z",
          "shell.execute_reply": "2022-06-23T13:10:20.246504Z"
        },
        "trusted": true,
        "id": "yXfjzBTmZOo_"
      },
      "execution_count": null,
      "outputs": []
    },
    {
      "cell_type": "code",
      "source": [
        "roc_auc_score(target_tst, pred_xgb)"
      ],
      "metadata": {
        "execution": {
          "iopub.status.busy": "2022-06-23T13:08:36.160984Z",
          "iopub.execute_input": "2022-06-23T13:08:36.161468Z",
          "iopub.status.idle": "2022-06-23T13:08:36.17531Z",
          "shell.execute_reply.started": "2022-06-23T13:08:36.161432Z",
          "shell.execute_reply": "2022-06-23T13:08:36.174324Z"
        },
        "trusted": true,
        "id": "Fy7WUgPgZOo_"
      },
      "execution_count": null,
      "outputs": []
    },
    {
      "cell_type": "code",
      "source": [
        "mean_gain = importances[['Importance', 'Feature']].groupby('Feature').mean()\n",
        "#importances['mean_score'] = importances['Feature'].map(mean_gain['Importance'])\n",
        "mean_gain = mean_gain.reset_index()\n",
        "sns.set(font_scale=1.2)\n",
        "plt.figure(figsize=(17, 33))\n",
        "sns.barplot(x='Importance', y='Feature', data=mean_gain.sort_values('Importance', ascending=False), palette='icefire')"
      ],
      "metadata": {
        "execution": {
          "iopub.status.busy": "2022-06-23T13:08:38.377693Z",
          "iopub.execute_input": "2022-06-23T13:08:38.378802Z",
          "iopub.status.idle": "2022-06-23T13:08:39.038347Z",
          "shell.execute_reply.started": "2022-06-23T13:08:38.378736Z",
          "shell.execute_reply": "2022-06-23T13:08:39.036754Z"
        },
        "trusted": true,
        "id": "6aUZWa2TZOo_"
      },
      "execution_count": null,
      "outputs": []
    },
    {
      "cell_type": "code",
      "source": [
        "oof_nn_rd = np.where(oof_xgb >= 0.5, 1, 0)\n",
        "cf_matrix = confusion_matrix(target_trn, oof_nn_rd)\n",
        "\n",
        "labels = ['True Neg','False Pos','False Neg','True Pos']\n",
        "categories = ['Zero', 'One']\n",
        "plt.style.use('seaborn-poster')\n",
        "sns.set(font_scale=1.4)\n",
        "make_confusion_matrix(cf_matrix,\n",
        "                      group_names=labels,\n",
        "                      categories=categories,\n",
        "                      cmap='vlag', figsize=(9, 6))\n"
      ],
      "metadata": {
        "execution": {
          "iopub.status.busy": "2022-06-23T13:08:44.480684Z",
          "iopub.execute_input": "2022-06-23T13:08:44.481088Z",
          "iopub.status.idle": "2022-06-23T13:08:44.759162Z",
          "shell.execute_reply.started": "2022-06-23T13:08:44.481058Z",
          "shell.execute_reply": "2022-06-23T13:08:44.757664Z"
        },
        "trusted": true,
        "id": "z7ePkxWRZOo_"
      },
      "execution_count": null,
      "outputs": []
    },
    {
      "cell_type": "code",
      "source": [
        "\"\"\"\n",
        "from sklearn.linear_model import LogisticRegression\n",
        "score_auc = []\n",
        "score_recall = []\n",
        "oof_lr = np.zeros(len(train))\n",
        "pred_lr = np.zeros(len(test))\n",
        "\n",
        "folds = StratifiedKFold(n_splits=5, shuffle=True, random_state=42)\n",
        "\n",
        "for fold_ , (train_ind, val_ind) in enumerate(folds.split(train, target_trn)):\n",
        "    print('fold:', fold_, '  - Starting ...')\n",
        "    trn_data, val_data = train.iloc[train_ind], train.iloc[val_ind]\n",
        "    y_train, y_val = target_trn.iloc[train_ind], target_trn.iloc[val_ind]\n",
        "\n",
        "    lr = LogisticRegression(C=1, max_iter=400, class_weight='balanced', random_state=32)\n",
        "    lr.fit(trn_data, y_train)\n",
        "    oof_lr[val_ind] = rf.predict_proba(val_data)[:, 1]\n",
        "    y = lr.predict_proba(trn_data)[:, 1]\n",
        "    print('val auc:' , roc_auc_score(y_val, oof_lr[val_ind]))\n",
        "    print('val recall:' , recall_score(y_val, np.where(oof_lr[val_ind] >= 0.5, 1, 0)))\n",
        "\n",
        "    score_auc.append(roc_auc_score(y_val, oof_lr[val_ind]))\n",
        "    score_recall.append(recall_score(y_val, np.where(oof_lr[val_ind] >= 0.5, 1, 0)))\n",
        "\n",
        "    pred_lr += lr.predict_proba(test)[:, 1]/folds.n_splits\n",
        "\n",
        "print(' Model auc: -------> ', np.mean(score_auc))\n",
        "print(' Model recall: -------> ', np.mean(score_recall))\"\"\""
      ],
      "metadata": {
        "id": "91d1tyrmZOpA"
      },
      "execution_count": null,
      "outputs": []
    }
  ]
}